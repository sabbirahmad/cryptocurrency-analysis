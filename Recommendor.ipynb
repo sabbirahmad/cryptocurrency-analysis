{
 "cells": [
  {
   "cell_type": "code",
   "execution_count": null,
   "metadata": {
    "collapsed": true
   },
   "outputs": [],
   "source": []
  },
  {
   "cell_type": "code",
   "execution_count": 49,
   "metadata": {
    "collapsed": true
   },
   "outputs": [],
   "source": [
    "def readFile(filename):\n",
    "    f = open(filename,'r')\n",
    "    arr = []\n",
    "    arr1 = []\n",
    "    for line in f:\n",
    "        arr.extend(line.strip().split(','))\n",
    "    for a in arr:\n",
    "        arr1.append(float(a))\n",
    "    return arr1"
   ]
  },
  {
   "cell_type": "code",
   "execution_count": 26,
   "metadata": {
    "collapsed": true
   },
   "outputs": [],
   "source": [
    "#  find out parameters w1, w2 by accepting d\n",
    "from math import exp\n",
    "def getParameters(d):\n",
    "    b=.3\n",
    "    w1 = exp(-1*b*d)\n",
    "    w2 = 1-w1\n",
    "    return w1,w2"
   ]
  },
  {
   "cell_type": "code",
   "execution_count": 30,
   "metadata": {
    "collapsed": true
   },
   "outputs": [],
   "source": [
    "#  function to find out coin to sell on a specific day\n",
    "# value of D would be just a days range that we need to consider\n",
    "def findDay(coin, days, coinValuesDict):\n",
    "    w1, w2 = getParameters(days)\n",
    "    R = []\n",
    "    priceArr = coinValuesDict['coin_'+ coin + '_close']\n",
    "    marketValArr = coinValuesDict['coin_'+ coin + '_market']\n",
    "    for d in range(1,days+1,1):\n",
    "        price = priceArr[d]\n",
    "        market = marketValArr[d]\n",
    "        R.append((d,(w1*price) + (w2* market)))\n",
    "    returnArray = sorted(R,key=lambda x:x[1], reverse=True)\n",
    "    return returnArray"
   ]
  },
  {
   "cell_type": "code",
   "execution_count": 51,
   "metadata": {
    "collapsed": true
   },
   "outputs": [],
   "source": [
    "#  function to find out coin to sell on a specific day\n",
    "# value of D would be day minus first day\n",
    "def findCoin(coinArray, d, coinValuesDict):\n",
    "    w1,w2 = getParameters(d)\n",
    "    R = []\n",
    "    for c in coinArray:\n",
    "        price = coinValuesDict['coin_'+ c + '_close'][d-1]\n",
    "        market = coinValuesDict['coin_'+ c + '_market'][d-1]\n",
    "        R.append((c, (w1 * price) + (w2 * market) ))\n",
    "    returnArray = sorted(R, key=lambda x:x[1], reverse=True)\n",
    "    return returnArray"
   ]
  },
  {
   "cell_type": "code",
   "execution_count": 32,
   "metadata": {},
   "outputs": [],
   "source": [
    "def findCoinAndDay(coinArray, days, coinValuesDict):\n",
    "    R = []\n",
    "    for d in range(1,days+1,1):\n",
    "        coin_rank = findCoin(coinArray, d, coinValuesDict)\n",
    "        R.append(coin_rank[0])\n",
    "    returnArray = sorted(R, key=lambda x:x[1], reverse=True)\n",
    "    return returnArray[0]"
   ]
  },
  {
   "cell_type": "code",
   "execution_count": 50,
   "metadata": {},
   "outputs": [
    {
     "name": "stdout",
     "output_type": "stream",
     "text": [
      "0.7408182206817179\n",
      "36.88537548639423\n",
      "0.5488116360940265\n",
      "37.144071424629104\n",
      "0.40656965974059917\n",
      "36.83507874969673\n",
      "0.30119421191220214\n",
      "37.11155542082034\n",
      "0.22313016014842982\n",
      "34.58332217883252\n",
      "0.16529888822158656\n",
      "34.63095413630741\n",
      "0.1224564282529819\n",
      "33.50903287969179\n",
      "0.09071795328941251\n",
      "33.88332947848892\n",
      "0.06720551273974978\n",
      "33.339639416396516\n",
      "0.049787068367863944\n",
      "33.62686325348113\n",
      "('ETC', 3145309050.5986886)\n"
     ]
    }
   ],
   "source": [
    "# reading directory and creating array\n",
    "dirpath = './prediction_files/'\n",
    "allFiles = [f for f in listdir(dirpath) if not (f.startswith('.')) and isfile(join(dirpath, f))]\n",
    "coins= set()\n",
    "coinValuesDict = {}\n",
    "for file in allFiles:\n",
    "    filename = join(dirpath,file)\n",
    "    justFile = file.split('.txt')[0]\n",
    "    coinname = justFile.split('_')[1]\n",
    "    coins.add(coinname)\n",
    "    if justFile not in coinValuesDict:\n",
    "        coinValuesDict[justFile] = readFile(filename)\n",
    "print(findCoinAndDay(list(coins),len(coinValuesDict[justFile]), coinValuesDict))"
   ]
  },
  {
   "cell_type": "code",
   "execution_count": null,
   "metadata": {},
   "outputs": [],
   "source": []
  },
  {
   "cell_type": "code",
   "execution_count": null,
   "metadata": {},
   "outputs": [],
   "source": []
  },
  {
   "cell_type": "code",
   "execution_count": null,
   "metadata": {
    "collapsed": true
   },
   "outputs": [],
   "source": []
  }
 ],
 "metadata": {
  "kernelspec": {
   "display_name": "Python 3",
   "language": "python",
   "name": "python3"
  },
  "language_info": {
   "codemirror_mode": {
    "name": "ipython",
    "version": 3
   },
   "file_extension": ".py",
   "mimetype": "text/x-python",
   "name": "python",
   "nbconvert_exporter": "python",
   "pygments_lexer": "ipython3",
   "version": "3.6.3"
  }
 },
 "nbformat": 4,
 "nbformat_minor": 2
}
