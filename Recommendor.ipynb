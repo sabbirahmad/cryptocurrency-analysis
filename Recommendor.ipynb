{
 "cells": [
  {
   "cell_type": "code",
   "execution_count": null,
   "metadata": {
    "collapsed": true
   },
   "outputs": [],
   "source": []
  },
  {
   "cell_type": "code",
   "execution_count": 52,
   "metadata": {
    "collapsed": true
   },
   "outputs": [],
   "source": [
    "def readFile(filename):\n",
    "    f = open(filename,'r')\n",
    "    arr = []\n",
    "    arr1 = []\n",
    "    for line in f:\n",
    "        arr.extend(line.strip().split(','))\n",
    "    for i in range(1,len(arr)):\n",
    "        arr1.append((float(arr[i]) - float(arr[i-1]))/float(arr[i-1]))\n",
    "    return arr1"
   ]
  },
  {
   "cell_type": "code",
   "execution_count": 26,
   "metadata": {
    "collapsed": true
   },
   "outputs": [],
   "source": [
    "#  find out parameters w1, w2 by accepting d\n",
    "from math import exp\n",
    "def getParameters(d):\n",
    "    b=.3\n",
    "    w1 = exp(-1*b*d)\n",
    "    w2 = 1-w1\n",
    "    return w1,w2"
   ]
  },
  {
   "cell_type": "code",
   "execution_count": 30,
   "metadata": {
    "collapsed": true
   },
   "outputs": [],
   "source": [
    "#  function to find out coin to sell on a specific day\n",
    "# value of D would be just a days range that we need to consider\n",
    "def findDay(coin, days, coinValuesDict):\n",
    "    w1, w2 = getParameters(days)\n",
    "    R = []\n",
    "    priceArr = coinValuesDict['coin_'+ coin + '_close']\n",
    "    marketValArr = coinValuesDict['coin_'+ coin + '_market']\n",
    "    for d in range(1,days+1,1):\n",
    "        price = priceArr[d]\n",
    "        market = marketValArr[d]\n",
    "        R.append((d,(w1*price) + (w2* market)))\n",
    "    returnArray = sorted(R,key=lambda x:x[1], reverse=True)\n",
    "    return returnArray"
   ]
  },
  {
   "cell_type": "code",
   "execution_count": 51,
   "metadata": {
    "collapsed": true
   },
   "outputs": [],
   "source": [
    "#  function to find out coin to sell on a specific day\n",
    "# value of D would be day minus first day\n",
    "def findCoin(coinArray, d, coinValuesDict):\n",
    "    w1,w2 = getParameters(d)\n",
    "    R = []\n",
    "    for c in coinArray:\n",
    "        price = coinValuesDict['coin_'+ c + '_close'][d-1]\n",
    "        market = coinValuesDict['coin_'+ c + '_market'][d-1]\n",
    "        R.append((c, (w1 * price) + (w2 * market) ))\n",
    "    returnArray = sorted(R, key=lambda x:x[1], reverse=True)\n",
    "    return returnArray"
   ]
  },
  {
   "cell_type": "code",
   "execution_count": 32,
   "metadata": {},
   "outputs": [],
   "source": [
    "def findCoinAndDay(coinArray, days, coinValuesDict):\n",
    "    R = []\n",
    "    for d in range(1,days+1,1):\n",
    "        coin_rank = findCoin(coinArray, d, coinValuesDict)\n",
    "        R.append(coin_rank[0])\n",
    "    returnArray = sorted(R, key=lambda x:x[1], reverse=True)\n",
    "    return returnArray[0]"
   ]
  },
  {
   "cell_type": "code",
   "execution_count": 56,
   "metadata": {},
   "outputs": [
    {
     "name": "stdout",
     "output_type": "stream",
     "text": [
      "('XRP', 0.08318873827882757)\n"
     ]
    }
   ],
   "source": [
    "# reading directory and creating array\n",
    "dirpath = './prediction_files/'\n",
    "allFiles = [f for f in listdir(dirpath) if not (f.startswith('.')) and isfile(join(dirpath, f))]\n",
    "coins= set()\n",
    "coinValuesDict = {}\n",
    "for file in allFiles:\n",
    "    filename = join(dirpath,file)\n",
    "    justFile = file.split('.txt')[0]\n",
    "    coinname = justFile.split('_')[1]\n",
    "    coins.add(coinname)\n",
    "    if justFile not in coinValuesDict:\n",
    "        coinValuesDict[justFile] = readFile(filename)\n",
    "print(findCoinAndDay(list(coins),len(coinValuesDict[justFile]), coinValuesDict))"
   ]
  },
  {
   "cell_type": "code",
   "execution_count": null,
   "metadata": {},
   "outputs": [],
   "source": []
  },
  {
   "cell_type": "code",
   "execution_count": null,
   "metadata": {},
   "outputs": [],
   "source": []
  },
  {
   "cell_type": "code",
   "execution_count": null,
   "metadata": {
    "collapsed": true
   },
   "outputs": [],
   "source": []
  }
 ],
 "metadata": {
  "kernelspec": {
   "display_name": "Python 3",
   "language": "python",
   "name": "python3"
  },
  "language_info": {
   "codemirror_mode": {
    "name": "ipython",
    "version": 3
   },
   "file_extension": ".py",
   "mimetype": "text/x-python",
   "name": "python",
   "nbconvert_exporter": "python",
   "pygments_lexer": "ipython3",
   "version": "3.6.3"
  }
 },
 "nbformat": 4,
 "nbformat_minor": 2
}
